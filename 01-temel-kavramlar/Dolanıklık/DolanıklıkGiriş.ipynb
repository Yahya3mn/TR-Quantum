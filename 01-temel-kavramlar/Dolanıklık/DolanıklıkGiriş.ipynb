{
 "cells": [
  {
   "cell_type": "markdown",
   "id": "d2ed83c5-60c0-46f2-93fd-aeac277d2d12",
   "metadata": {},
   "source": [
    "# Quantum Entanglement (Kuantum Dolanıklık)\n",
    "\n",
    "## Giriş\n",
    "Kuantum dolanıklık (**quantum entanglement**), kuantum mekaniğinin en temel ve aynı zamanda en sıra dışı fenomenlerinden biridir.  \n",
    "Bu olgu, iki veya daha fazla kuantum sisteminin (örneğin qubitlerin) kuantum durumlarının birbirinden bağımsız tanımlanamayacağı, yalnızca ortak bir durumla ifade edilebileceği özel bir korelasyon biçimidir.  \n",
    "\n",
    "Klasik korelasyon ile arasındaki temel fark, dolanık sistemlerde ölçüm sonuçlarının **önceden belirlenmemiş** olmasıdır. Ölçüm işlemi gerçekleştiğinde, sonuçlar anında birbirini tamamlayacak biçimde ortaya çıkar.  \n",
    "\n",
    "**Örnek Bell Durumu (EPR Çifti):**\n",
    "\n",
    "$$\n",
    "|\\Phi^+\\rangle = \\frac{|00⟩ + |11⟩}{\\sqrt{2}}\n",
    "$$\n",
    "\n",
    "Bu durum, iki qubitin dolanıklık halinde olmasının en basit ve en çok çalışılan örneğidir.\n",
    "\n",
    "---\n",
    "\n",
    "## Matematiksel Arka Plan\n",
    "Bir kuantum bit (qubit), iki boyutlu Hilbert uzayında tanımlanır:  \n",
    "\n",
    "$$\n",
    "|ψ⟩ = \\alpha|0⟩ + \\beta|1⟩, \\quad \\text{burada } |\\alpha|^2 + |\\beta|^2 = 1\n",
    "$$\n",
    "\n",
    "İki qubitlik sistemler **tensor çarpımı** ile elde edilir. Dolanıklık, bu sistemlerde ortaya çıkan ve ayrı ayrı qubit durumlarına indirgenemeyen süperpozisyonlarla tanımlanır.  \n",
    "\n",
    "Örneğin, aşağıdaki durum **dolanık**tır:  \n",
    "\n",
    "$$\n",
    "|\\Psi⟩ = \\frac{|01⟩ + |10⟩}{\\sqrt{2}}\n",
    "$$\n",
    "\n",
    "Çünkü bu durum, tek tek qubitlerin ürün durumları şeklinde yazılamaz.\n",
    "\n",
    "---\n",
    "\n",
    "## Qiskit ile Deneysel Simülasyon\n",
    "\n",
    "Aşağıdaki örnekte, **Hadamard** ve **CNOT** kapıları kullanılarak bir Bell durumu hazırlanmakta ve ölçüm sonuçları simüle edilmektedir."
   ]
  },
  {
   "cell_type": "code",
   "execution_count": 1,
   "id": "71a127ff-78ec-482b-827d-448be3c0906e",
   "metadata": {},
   "outputs": [],
   "source": [
    "# Qiskit’in temel bileşenlerini içe aktar\n",
    "from qiskit import *"
   ]
  },
  {
   "cell_type": "code",
   "execution_count": 2,
   "id": "2fa47041-5dcf-454c-a0de-65328055c288",
   "metadata": {},
   "outputs": [],
   "source": [
    "# AerSimulator: Qiskit Aer modülünün sağladığı kuantum devre simülatörü\n",
    "# Gerçek cihaz olmadan devreleri bilgisayarda çalıştırmak için kullanılır.\n",
    "from qiskit_aer import AerSimulator"
   ]
  },
  {
   "cell_type": "code",
   "execution_count": 3,
   "id": "1648a18a-aed2-4313-a3c6-44000f31fc72",
   "metadata": {},
   "outputs": [],
   "source": [
    "# Ölçüm sonuçlarını histogram olarak görselleştirmek için\n",
    "from qiskit.visualization import plot_histogram  "
   ]
  },
  {
   "cell_type": "code",
   "execution_count": 4,
   "id": "0dccaa81-8cf9-4605-b0b4-2a0461670a97",
   "metadata": {},
   "outputs": [],
   "source": [
    "# 2 qubit ve 2 klasik bitlik qubit devresi oluşturma\n",
    "Circuit = QuantumCircuit(2, 2)"
   ]
  },
  {
   "cell_type": "code",
   "execution_count": 5,
   "id": "69d41bf0-88a0-4a47-81e6-ef88bd4360be",
   "metadata": {},
   "outputs": [
    {
     "data": {
      "image/png": "[encoded data removed]",
      "text/plain": [
       "<Figure size 161.878x284.278 with 1 Axes>"
      ]
     },
     "execution_count": 5,
     "metadata": {},
     "output_type": "execute_result"
    }
   ],
   "source": [
    "# Görselleştirme\n",
    "Circuit.draw('mpl')"
   ]
  },
  {
   "cell_type": "markdown",
   "id": "a57bb740-0221-4a9b-b95f-30008839f87b",
   "metadata": {},
   "source": [
    "### Hadamard ve CNOT Kapılarının Rolü\n",
    "\n",
    "- **Hadamard (H) kapısı**: Bir qubit’i süperpozisyona sokar.  \n",
    "  Örneğin $|0⟩$ durumu Hadamard’dan geçerse:  \n",
    "\n",
    "  $$\n",
    "  H|0⟩ = \\frac{|0⟩ + |1⟩}{\\sqrt{2}}\n",
    "  $$\n",
    "\n",
    "  Yani qubit aynı anda hem $|0⟩$ hem $|1⟩$ durumunda bulunur.\n",
    "\n",
    "- **CNOT kapısı**: Bir kontrol ve bir hedef qubit arasında etkileşim kurar.  \n",
    "  Kontrol qubit $|1⟩$ durumunda olduğunda hedef qubit’in durumu terslenir.  \n",
    "\n",
    "Hadamard + CNOT kombinasyonu, iki qubit arasında **dolanıklık** üretmenin en temel yöntemidir.  \n"
   ]
  },
  {
   "cell_type": "code",
   "execution_count": 6,
   "id": "20bfde61-83ab-45ac-ac6e-f21cea75c2f0",
   "metadata": {},
   "outputs": [
    {
     "data": {
      "text/plain": [
       "<qiskit.circuit.instructionset.InstructionSet at 0x23822144910>"
      ]
     },
     "execution_count": 6,
     "metadata": {},
     "output_type": "execute_result"
    }
   ],
   "source": [
    "# Dolanıklık üretimi: Hadamard + CNOT\n",
    "Circuit.h(0)\n",
    "Circuit.cx(0,1)"
   ]
  },
  {
   "cell_type": "code",
   "execution_count": 7,
   "id": "b102c72a-675e-43d4-9bb2-02568cb6aaf7",
   "metadata": {},
   "outputs": [
    {
     "data": {
      "image/png": "[encoded data removed]",
      "text/plain": [
       "<Figure size 287.294x284.278 with 1 Axes>"
      ]
     },
     "execution_count": 7,
     "metadata": {},
     "output_type": "execute_result"
    }
   ],
   "source": [
    "# Görselleştirme\n",
    "Circuit.draw('mpl')"
   ]
  },
  {
   "cell_type": "markdown",
   "id": "b12a9b42-0f06-46c6-93b8-e0cbb4e1867e",
   "metadata": {},
   "source": [
    "### Ölçüm Aşaması\n",
    "\n",
    "Bu adımda, kuantum devresindeki qubitlerin durumlarını **klasik bitlere** aktarıyoruz.  \n",
    "- İlk parametre `[0,1]`, **ölçüm yapılacak qubitleri** gösterir. Burada `0` ve `1`, devrede tanımlı olan iki qubit numarasını ifade eder.  \n",
    "- İkinci parametre `[0,1]`, **sonuçların yazılacağı klasik bitleri** belirtir.  \n",
    "\n",
    "Dolayısıyla `Circuit.measure([0,1], [0,1])` ifadesi:  \n",
    "\n",
    "- Qubit **0** → Klasik bit **0**  \n",
    "- Qubit **1** → Klasik bit **1**  \n",
    "\n",
    "şeklinde eşleme yaparak ölçüm sonuçlarını klasik bilgisayarda okunabilir hale getirir.\n"
   ]
  },
  {
   "cell_type": "code",
   "execution_count": 8,
   "id": "1b8c989f-a46a-4a9f-bb99-709fae2fcbaf",
   "metadata": {},
   "outputs": [
    {
     "data": {
      "text/plain": [
       "<qiskit.circuit.instructionset.InstructionSet at 0x238221473a0>"
      ]
     },
     "execution_count": 8,
     "metadata": {},
     "output_type": "execute_result"
    }
   ],
   "source": [
    "# Ölçüm\n",
    "Circuit.measure([0,1],[0,1])"
   ]
  },
  {
   "cell_type": "code",
   "execution_count": 9,
   "id": "64b0383a-658f-4d23-9cbe-3970db416080",
   "metadata": {},
   "outputs": [
    {
     "data": {
      "image/png": "[encoded data removed]",
      "text/plain": [
       "<Figure size 454.517x284.278 with 1 Axes>"
      ]
     },
     "execution_count": 9,
     "metadata": {},
     "output_type": "execute_result"
    }
   ],
   "source": [
    "# Görselleştirme\n",
    "Circuit.draw('mpl')"
   ]
  },
  {
   "cell_type": "code",
   "execution_count": 10,
   "id": "455400c6-168a-4202-8430-bbf53d7e334a",
   "metadata": {},
   "outputs": [],
   "source": [
    "# Simülatör\n",
    "simulator = AerSimulator()"
   ]
  },
  {
   "cell_type": "code",
   "execution_count": 11,
   "id": "dfbc845d-fdd7-4470-889e-ea66ebf571a0",
   "metadata": {},
   "outputs": [],
   "source": [
    "# Devreyi derle\n",
    "compiled_circuit = transpile(Circuit, simulator)"
   ]
  },
  {
   "cell_type": "code",
   "execution_count": 12,
   "id": "d0b562f9-c68a-470b-985c-004322266d22",
   "metadata": {},
   "outputs": [],
   "source": [
    "# Devreyi simülatörde çalıştırma (1000 shot)\n",
    "sim_result = simulator.run(compiled_circuit, shots=1000).result()"
   ]
  },
  {
   "cell_type": "code",
   "execution_count": 13,
   "id": "d7516a60-9403-4336-8a2c-c4d5c97ecb59",
   "metadata": {},
   "outputs": [],
   "source": [
    "# Ölçüm sonuçları\n",
    "counts = sim_result.get_counts()"
   ]
  },
  {
   "cell_type": "markdown",
   "id": "5be1545c-237b-4a19-952c-2edb82b5cf6d",
   "metadata": {},
   "source": [
    "# Ölçüm Sonuçlarının Histogramı"
   ]
  },
  {
   "cell_type": "code",
   "execution_count": 14,
   "id": "06ca7d31-e54b-4731-84a2-4e609dfb1eea",
   "metadata": {},
   "outputs": [
    {
     "data": {
      "image/png": "[encoded data removed]",
      "text/plain": [
       "<Figure size 640x480 with 1 Axes>"
      ]
     },
     "execution_count": 14,
     "metadata": {},
     "output_type": "execute_result"
    }
   ],
   "source": [
    "# Ölçüm sonuçlarının histogramı\n",
    "plot_histogram(counts)"
   ]
  },
  {
   "cell_type": "markdown",
   "id": "29a6961a-fa95-4db1-80b2-3b6e7f22b406",
   "metadata": {},
   "source": [
    "## Ölçüm Sonuçlarının Yorumu\n",
    "\n",
    "Simülasyonun çıktısı tipik olarak iki temel durum etrafında yoğunlaşır:\n",
    "\n",
    "- Yaklaşık %50 olasılıkla $|00⟩$  \n",
    "- Yaklaşık %50 olasılıkla $|11⟩$  \n",
    "\n",
    "Bu sonuçlar, dolanıklığın özünü yansıtır: birinci qubitin ölçüm sonucu **0** olduğunda, ikinci qubit de kesinlikle **0** olur; aynı şekilde birinci qubit **1** ise, diğeri de kesinlikle **1** olarak ölçülür.  \n",
    "\n",
    "Bu korelasyon, klasik sistemlerde açıklanamayacak ölçüde güçlüdür.  \n",
    "\n",
    "---\n",
    "\n",
    "##  Bell Testi ve Kuantum Korelasyonlar\n",
    "\n",
    "Dolanıklığın deneysel olarak doğrulanması, **Bell eşitsizlikleri** ile mümkündür. Bu testler, kuantum korelasyonların klasik gizli değişken teorileriyle açıklanamayacağını göstermektedir.  \n",
    "\n",
    "Örneğin, **CHSH eşitsizliği** kuantum mekaniğinde ihlal edilmektedir ve bu da kuantum dolanıklığın klasik korelasyonlardan ayrıştığını kanıtlamaktadır.  \n",
    "\n",
    "---\n",
    "\n",
    "## Sonuç\n",
    "\n",
    "Kuantum dolanıklık, kuantum bilgi kuramı ve kuantum teknolojilerinin merkezinde yer almaktadır.  \n",
    "Başlıca uygulama alanları şunlardır:\n",
    "\n",
    "- **Kuantum kriptografi (QKD)**: Güvenli anahtar dağıtımı  \n",
    "- **Kuantum teleportasyon**: Kuantum durumlarının uzak mesafelere aktarılması  \n",
    "- **Kuantum ağları**: Dolanıklığa dayalı bilgi paylaşımı  \n",
    "\n",
    "Sonuç olarak, kuantum dolanıklık yalnızca temel kuantum mekaniğinin bir öngörüsü değil, aynı zamanda kuantum bilgi işleminin ve kuantum iletişimin pratik uygulanabilirliğinin anahtarıdır.\n"
   ]
  },
  {
   "cell_type": "code",
   "execution_count": null,
   "id": "10f31040-e23c-4ac2-b9da-a3aea9535405",
   "metadata": {},
   "outputs": [],
   "source": []
  }
 ],
 "metadata": {
  "kernelspec": {
   "display_name": "Python (qiskit_env)",
   "language": "python",
   "name": "qiskit_env"
  },
  "language_info": {
   "codemirror_mode": {
    "name": "ipython",
    "version": 3
   },
   "file_extension": ".py",
   "mimetype": "text/x-python",
   "name": "python",
   "nbconvert_exporter": "python",
   "pygments_lexer": "ipython3",
   "version": "3.13.5"
  }
 },
 "nbformat": 4,
 "nbformat_minor": 5
}
